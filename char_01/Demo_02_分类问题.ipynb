{
 "cells": [
  {
   "cell_type": "code",
   "execution_count": 1,
   "metadata": {},
   "outputs": [
    {
     "name": "stdout",
     "output_type": "stream",
     "text": [
      "[0 0 0 0 0 0 0 0 0 0 0 0 0 0 0 0 0 0 0 0 0 0 0 0 0 0 0 0 0 0 0 0 0 0 0 0 0\n",
      " 0 0 0 0 0 0 0 0 0 0 0 0 0 1 1 1 1 1 1 1 1 1 1 1 1 1 1 1 1 1 1 1 1 1 1 1 1\n",
      " 1 1 1 1 1 1 1 1 1 1 1 1 1 1 1 1 1 1 1 1 1 1 1 1 1 1 2 2 2 2 2 2 2 2 2 2 2\n",
      " 2 2 2 2 2 2 2 2 2 2 2 2 2 2 2 2 2 2 2 2 2 2 2 2 2 2 2 2 2 2 2 2 2 2 2 2 2\n",
      " 2 2]\n"
     ]
    }
   ],
   "source": [
    "from sklearn.datasets import load_iris\n",
    "dataset = load_iris()\n",
    "X = dataset.data\n",
    "y = dataset.target\n",
    "print(y)"
   ]
  },
  {
   "cell_type": "code",
   "execution_count": 2,
   "metadata": {},
   "outputs": [
    {
     "name": "stdout",
     "output_type": "stream",
     "text": [
      "[5.84333333 3.05733333 3.758      1.19933333]\n"
     ]
    }
   ],
   "source": [
    "attribute_means = X.mean(axis=0)\n",
    "print(attribute_means)"
   ]
  },
  {
   "cell_type": "code",
   "execution_count": 3,
   "metadata": {
    "scrolled": true
   },
   "outputs": [
    {
     "name": "stdout",
     "output_type": "stream",
     "text": [
      "[[0 1 0 0]\n",
      " [0 0 0 0]\n",
      " [0 1 0 0]\n",
      " [0 1 0 0]\n",
      " [0 1 0 0]\n",
      " [0 1 0 0]\n",
      " [0 1 0 0]\n",
      " [0 1 0 0]\n",
      " [0 0 0 0]\n",
      " [0 1 0 0]\n",
      " [0 1 0 0]\n",
      " [0 1 0 0]\n",
      " [0 0 0 0]\n",
      " [0 0 0 0]\n",
      " [0 1 0 0]\n",
      " [0 1 0 0]\n",
      " [0 1 0 0]\n",
      " [0 1 0 0]\n",
      " [0 1 0 0]\n",
      " [0 1 0 0]\n",
      " [0 1 0 0]\n",
      " [0 1 0 0]\n",
      " [0 1 0 0]\n",
      " [0 1 0 0]\n",
      " [0 1 0 0]\n",
      " [0 0 0 0]\n",
      " [0 1 0 0]\n",
      " [0 1 0 0]\n",
      " [0 1 0 0]\n",
      " [0 1 0 0]\n",
      " [0 1 0 0]\n",
      " [0 1 0 0]\n",
      " [0 1 0 0]\n",
      " [0 1 0 0]\n",
      " [0 1 0 0]\n",
      " [0 1 0 0]\n",
      " [0 1 0 0]\n",
      " [0 1 0 0]\n",
      " [0 0 0 0]\n",
      " [0 1 0 0]\n",
      " [0 1 0 0]\n",
      " [0 0 0 0]\n",
      " [0 1 0 0]\n",
      " [0 1 0 0]\n",
      " [0 1 0 0]\n",
      " [0 0 0 0]\n",
      " [0 1 0 0]\n",
      " [0 1 0 0]\n",
      " [0 1 0 0]\n",
      " [0 1 0 0]\n",
      " [1 1 1 1]\n",
      " [1 1 1 1]\n",
      " [1 1 1 1]\n",
      " [0 0 1 1]\n",
      " [1 0 1 1]\n",
      " [0 0 1 1]\n",
      " [1 1 1 1]\n",
      " [0 0 0 0]\n",
      " [1 0 1 1]\n",
      " [0 0 1 1]\n",
      " [0 0 0 0]\n",
      " [1 0 1 1]\n",
      " [1 0 1 0]\n",
      " [1 0 1 1]\n",
      " [0 0 0 1]\n",
      " [1 1 1 1]\n",
      " [0 0 1 1]\n",
      " [0 0 1 0]\n",
      " [1 0 1 1]\n",
      " [0 0 1 0]\n",
      " [1 1 1 1]\n",
      " [1 0 1 1]\n",
      " [1 0 1 1]\n",
      " [1 0 1 1]\n",
      " [1 0 1 1]\n",
      " [1 0 1 1]\n",
      " [1 0 1 1]\n",
      " [1 0 1 1]\n",
      " [1 0 1 1]\n",
      " [0 0 0 0]\n",
      " [0 0 1 0]\n",
      " [0 0 0 0]\n",
      " [0 0 1 1]\n",
      " [1 0 1 1]\n",
      " [0 0 1 1]\n",
      " [1 1 1 1]\n",
      " [1 1 1 1]\n",
      " [1 0 1 1]\n",
      " [0 0 1 1]\n",
      " [0 0 1 1]\n",
      " [0 0 1 1]\n",
      " [1 0 1 1]\n",
      " [0 0 1 1]\n",
      " [0 0 0 0]\n",
      " [0 0 1 1]\n",
      " [0 0 1 1]\n",
      " [0 0 1 1]\n",
      " [1 0 1 1]\n",
      " [0 0 0 0]\n",
      " [0 0 1 1]\n",
      " [1 1 1 1]\n",
      " [0 0 1 1]\n",
      " [1 0 1 1]\n",
      " [1 0 1 1]\n",
      " [1 0 1 1]\n",
      " [1 0 1 1]\n",
      " [0 0 1 1]\n",
      " [1 0 1 1]\n",
      " [1 0 1 1]\n",
      " [1 1 1 1]\n",
      " [1 1 1 1]\n",
      " [1 0 1 1]\n",
      " [1 0 1 1]\n",
      " [0 0 1 1]\n",
      " [0 0 1 1]\n",
      " [1 1 1 1]\n",
      " [1 0 1 1]\n",
      " [1 1 1 1]\n",
      " [1 0 1 1]\n",
      " [1 0 1 1]\n",
      " [1 1 1 1]\n",
      " [0 0 1 1]\n",
      " [1 0 1 1]\n",
      " [1 0 1 1]\n",
      " [1 1 1 1]\n",
      " [1 1 1 1]\n",
      " [1 0 1 1]\n",
      " [1 0 1 1]\n",
      " [1 0 1 1]\n",
      " [1 0 1 1]\n",
      " [1 0 1 1]\n",
      " [1 1 1 1]\n",
      " [1 0 1 1]\n",
      " [1 0 1 1]\n",
      " [1 0 1 1]\n",
      " [1 0 1 1]\n",
      " [1 1 1 1]\n",
      " [1 1 1 1]\n",
      " [1 0 1 1]\n",
      " [1 1 1 1]\n",
      " [1 1 1 1]\n",
      " [1 1 1 1]\n",
      " [0 0 1 1]\n",
      " [1 1 1 1]\n",
      " [1 1 1 1]\n",
      " [1 0 1 1]\n",
      " [1 0 1 1]\n",
      " [1 0 1 1]\n",
      " [1 1 1 1]\n",
      " [1 0 1 1]]\n"
     ]
    }
   ],
   "source": [
    "import numpy as np\n",
    "X_d = np.array(X >= attribute_means ,dtype = 'int')"
   ]
  },
  {
   "cell_type": "code",
   "execution_count": 4,
   "metadata": {},
   "outputs": [],
   "source": [
    "from collections import defaultdict\n",
    "from operator import itemgetter\n",
    "def train_feature_value(X, y_true, feature_index, value): ##数据集、类别数组、选好的特征索引值、特征值\n",
    "    class_counts = defaultdict(int)\n",
    "    for sample, y in zip(X, y_true):\n",
    "        if sample[feature_index] == value:\n",
    "            class_counts[y] += 1\n",
    "    sorted_class_counts = sorted(class_counts.items(), key=itemgetter(1), reverse=True)\n",
    "    most_frequent_class = sorted_class_counts[0][0]\n",
    "    incorrect_predictions = [class_count \n",
    "                             for class_value, class_count in class_counts.items() \n",
    "                             if class_value != most_frequent_class]\n",
    "    error = sum(incorrect_predictions)\n",
    "    return most_frequent_class, error"
   ]
  },
  {
   "cell_type": "code",
   "execution_count": 5,
   "metadata": {},
   "outputs": [],
   "source": [
    "def train_on_feature(X, y_true, feature_index):\n",
    "    values = set(X[:,feature_index]) # 以数组的 形式返回由feature_index所指的列。\n",
    "    predictors = {} # 再创建字典predictors，用作预测器。字典的键为特征值，值为类别。\n",
    "    errors = []\n",
    "    for current_value in values:\n",
    "        most_frequent_class, error = train_feature_value(X,y_true, feature_index, current_value) \n",
    "        predictors[current_value] = most_frequent_class \n",
    "        errors.append(error)\n",
    "    total_error = sum(errors)\n",
    "    return predictors, total_error"
   ]
  },
  {
   "cell_type": "code",
   "execution_count": 6,
   "metadata": {},
   "outputs": [],
   "source": [
    "from sklearn.model_selection import train_test_split\n",
    "Xd_train, Xd_test, y_train, y_test = train_test_split(X_d, y, random_state=14)\n",
    "all_predictors = {}\n",
    "errors = {}\n",
    "for feature_index in range(Xd_train.shape[1]):\n",
    "    predictors, total_error = train_on_feature(Xd_train, y_train, feature_index)\n",
    "    all_predictors[feature_index] = predictors\n",
    "    errors[feature_index] = total_error\n",
    "best_feature, best_error = sorted(errors.items(), key=itemgetter(1))[0] # 然后找出错误率最低的特征，作为分类的唯一规则。\n",
    "model = {'feature':best_feature,'predictor':all_predictors[best_feature][0]} #model模型是一个字典结构，包含两个元素:用于分类的特征和预测器。"
   ]
  },
  {
   "cell_type": "code",
   "execution_count": 7,
   "metadata": {},
   "outputs": [],
   "source": [
    "def predict(X_test, model):\n",
    "    variable = model['feature']\n",
    "    predictor = model['predictor']\n",
    "    y_predicted = np.array([predictor[int(sample[variable])] for sample in X_test])\n",
    "    return y_predicted"
   ]
  },
  {
   "cell_type": "code",
   "execution_count": 8,
   "metadata": {},
   "outputs": [
    {
     "ename": "IndexError",
     "evalue": "invalid index to scalar variable.",
     "output_type": "error",
     "traceback": [
      "\u001b[0;31m---------------------------------------------------------------------------\u001b[0m",
      "\u001b[0;31mIndexError\u001b[0m                                Traceback (most recent call last)",
      "\u001b[0;32m<ipython-input-8-c4e7c1377582>\u001b[0m in \u001b[0;36m<module>\u001b[0;34m\u001b[0m\n\u001b[0;32m----> 1\u001b[0;31m \u001b[0my_predicted\u001b[0m \u001b[0;34m=\u001b[0m \u001b[0mpredict\u001b[0m\u001b[0;34m(\u001b[0m\u001b[0mXd_test\u001b[0m\u001b[0;34m,\u001b[0m \u001b[0mmodel\u001b[0m\u001b[0;34m)\u001b[0m\u001b[0;34m\u001b[0m\u001b[0;34m\u001b[0m\u001b[0m\n\u001b[0m\u001b[1;32m      2\u001b[0m \u001b[0mprint\u001b[0m\u001b[0;34m(\u001b[0m\u001b[0my_predicted\u001b[0m\u001b[0;34m)\u001b[0m\u001b[0;34m\u001b[0m\u001b[0;34m\u001b[0m\u001b[0m\n",
      "\u001b[0;32m<ipython-input-7-bdfe249a9673>\u001b[0m in \u001b[0;36mpredict\u001b[0;34m(X_test, model)\u001b[0m\n\u001b[1;32m      2\u001b[0m     \u001b[0mvariable\u001b[0m \u001b[0;34m=\u001b[0m \u001b[0mmodel\u001b[0m\u001b[0;34m[\u001b[0m\u001b[0;34m'feature'\u001b[0m\u001b[0;34m]\u001b[0m\u001b[0;34m\u001b[0m\u001b[0;34m\u001b[0m\u001b[0m\n\u001b[1;32m      3\u001b[0m     \u001b[0mpredictor\u001b[0m \u001b[0;34m=\u001b[0m \u001b[0mmodel\u001b[0m\u001b[0;34m[\u001b[0m\u001b[0;34m'predictor'\u001b[0m\u001b[0;34m]\u001b[0m\u001b[0;34m\u001b[0m\u001b[0;34m\u001b[0m\u001b[0m\n\u001b[0;32m----> 4\u001b[0;31m     \u001b[0my_predicted\u001b[0m \u001b[0;34m=\u001b[0m \u001b[0mnp\u001b[0m\u001b[0;34m.\u001b[0m\u001b[0marray\u001b[0m\u001b[0;34m(\u001b[0m\u001b[0;34m[\u001b[0m\u001b[0mpredictor\u001b[0m\u001b[0;34m[\u001b[0m\u001b[0mint\u001b[0m\u001b[0;34m(\u001b[0m\u001b[0msample\u001b[0m\u001b[0;34m[\u001b[0m\u001b[0mvariable\u001b[0m\u001b[0;34m]\u001b[0m\u001b[0;34m)\u001b[0m\u001b[0;34m]\u001b[0m \u001b[0;32mfor\u001b[0m \u001b[0msample\u001b[0m \u001b[0;32min\u001b[0m \u001b[0mX_test\u001b[0m\u001b[0;34m]\u001b[0m\u001b[0;34m)\u001b[0m\u001b[0;34m\u001b[0m\u001b[0;34m\u001b[0m\u001b[0m\n\u001b[0m\u001b[1;32m      5\u001b[0m     \u001b[0;32mreturn\u001b[0m \u001b[0my_predicted\u001b[0m\u001b[0;34m\u001b[0m\u001b[0;34m\u001b[0m\u001b[0m\n",
      "\u001b[0;32m<ipython-input-7-bdfe249a9673>\u001b[0m in \u001b[0;36m<listcomp>\u001b[0;34m(.0)\u001b[0m\n\u001b[1;32m      2\u001b[0m     \u001b[0mvariable\u001b[0m \u001b[0;34m=\u001b[0m \u001b[0mmodel\u001b[0m\u001b[0;34m[\u001b[0m\u001b[0;34m'feature'\u001b[0m\u001b[0;34m]\u001b[0m\u001b[0;34m\u001b[0m\u001b[0;34m\u001b[0m\u001b[0m\n\u001b[1;32m      3\u001b[0m     \u001b[0mpredictor\u001b[0m \u001b[0;34m=\u001b[0m \u001b[0mmodel\u001b[0m\u001b[0;34m[\u001b[0m\u001b[0;34m'predictor'\u001b[0m\u001b[0;34m]\u001b[0m\u001b[0;34m\u001b[0m\u001b[0;34m\u001b[0m\u001b[0m\n\u001b[0;32m----> 4\u001b[0;31m     \u001b[0my_predicted\u001b[0m \u001b[0;34m=\u001b[0m \u001b[0mnp\u001b[0m\u001b[0;34m.\u001b[0m\u001b[0marray\u001b[0m\u001b[0;34m(\u001b[0m\u001b[0;34m[\u001b[0m\u001b[0mpredictor\u001b[0m\u001b[0;34m[\u001b[0m\u001b[0mint\u001b[0m\u001b[0;34m(\u001b[0m\u001b[0msample\u001b[0m\u001b[0;34m[\u001b[0m\u001b[0mvariable\u001b[0m\u001b[0;34m]\u001b[0m\u001b[0;34m)\u001b[0m\u001b[0;34m]\u001b[0m \u001b[0;32mfor\u001b[0m \u001b[0msample\u001b[0m \u001b[0;32min\u001b[0m \u001b[0mX_test\u001b[0m\u001b[0;34m]\u001b[0m\u001b[0;34m)\u001b[0m\u001b[0;34m\u001b[0m\u001b[0;34m\u001b[0m\u001b[0m\n\u001b[0m\u001b[1;32m      5\u001b[0m     \u001b[0;32mreturn\u001b[0m \u001b[0my_predicted\u001b[0m\u001b[0;34m\u001b[0m\u001b[0;34m\u001b[0m\u001b[0m\n",
      "\u001b[0;31mIndexError\u001b[0m: invalid index to scalar variable."
     ]
    }
   ],
   "source": [
    "y_predicted = predict(Xd_test, model)\n",
    "print(y_predicted)"
   ]
  },
  {
   "cell_type": "code",
   "execution_count": null,
   "metadata": {},
   "outputs": [],
   "source": [
    "accuracy = np.mean(y_predicted == y_test) * 100\n",
    "print(\"The test accuracy is {:.1f}%\".format(accuracy))"
   ]
  }
 ],
 "metadata": {
  "kernelspec": {
   "display_name": "Python 3",
   "language": "python",
   "name": "python3"
  },
  "language_info": {
   "codemirror_mode": {
    "name": "ipython",
    "version": 3
   },
   "file_extension": ".py",
   "mimetype": "text/x-python",
   "name": "python",
   "nbconvert_exporter": "python",
   "pygments_lexer": "ipython3",
   "version": "3.7.6"
  }
 },
 "nbformat": 4,
 "nbformat_minor": 4
}
